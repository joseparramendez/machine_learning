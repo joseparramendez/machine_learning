{
  "nbformat": 4,
  "nbformat_minor": 0,
  "metadata": {
    "colab": {
      "name": "Wine quality-Gaussian kernel.ipynb",
      "version": "0.3.2",
      "views": {},
      "default_view": {},
      "provenance": []
    },
    "kernelspec": {
      "name": "python3",
      "display_name": "Python 3"
    }
  },
  "cells": [
    {
      "metadata": {
        "id": "gS_TGbedpA1c",
        "colab_type": "code",
        "colab": {
          "autoexec": {
            "startup": false,
            "wait_interval": 0
          },
          "base_uri": "https://localhost:8080/",
          "height": 143
        },
        "outputId": "9f960840-fb1d-4208-f12a-948996c9c775",
        "executionInfo": {
          "status": "ok",
          "timestamp": 1531150694176,
          "user_tz": -330,
          "elapsed": 11216,
          "user": {
            "displayName": "DITI MODI",
            "photoUrl": "//lh4.googleusercontent.com/-UB4BeIbIy_o/AAAAAAAAAAI/AAAAAAAAAyo/Qe-TSBD6y8o/s50-c-k-no/photo.jpg",
            "userId": "118039538249633667131"
          }
        }
      },
      "cell_type": "code",
      "source": [
        "#Importing dependencies\n",
        "import numpy as np\n",
        "import pandas as pd\n",
        "import matplotlib as plt\n",
        "from google.colab import files\n",
        "uploaded = files.upload()\n",
        "\n",
        "wine_data=pd.read_csv(\"wine.csv\")\n",
        "x=wine_data.drop(['quality','volatile acidity','density','pH','sulphates','free sulfur dioxide','total sulfur dioxide'],axis=1)\n",
        "y=wine_data['quality']\n",
        "from sklearn.cross_validation import train_test_split\n",
        "#train and test data split\n",
        "x_train, x_test, y_train, y_test = train_test_split(x, y, test_size = 1/3, random_state = 1)\n",
        "from sklearn.svm import SVC\n",
        "\n",
        "#\"svm_clf\" is our model \n",
        "svm_clf=SVC(kernel='rbf')#gaussian kernel\n",
        "#fitting our data in svm model\n",
        "svm_clf.fit(x_train,y_train)\n",
        "#making predictions\n",
        "pred=svm_clf.predict(x_test)\n",
        "from sklearn.metrics import classification_report\n",
        "classification_report(y_test,pred)\n",
        "from sklearn.metrics import accuracy_score\n",
        "accuracy_score(y_test,pred)*100"
      ],
      "execution_count": 15,
      "outputs": [
        {
          "output_type": "display_data",
          "data": {
            "text/html": [
              "\n",
              "     <input type=\"file\" id=\"files-727f37d3-d8a6-443e-bd96-e2c1701821db\" name=\"files[]\" multiple disabled />\n",
              "     <output id=\"result-727f37d3-d8a6-443e-bd96-e2c1701821db\">\n",
              "      Upload widget is only available when the cell has been executed in the\n",
              "      current browser session. Please rerun this cell to enable.\n",
              "      </output>\n",
              "      <script src=\"/nbextensions/google.colab/files.js\"></script> "
            ],
            "text/plain": [
              "<IPython.core.display.HTML object>"
            ]
          },
          "metadata": {
            "tags": []
          }
        },
        {
          "output_type": "stream",
          "text": [
            "Saving wine.csv to wine (13).csv\n"
          ],
          "name": "stdout"
        },
        {
          "output_type": "stream",
          "text": [
            "/usr/local/lib/python3.6/dist-packages/sklearn/metrics/classification.py:1135: UndefinedMetricWarning: Precision and F-score are ill-defined and being set to 0.0 in labels with no predicted samples.\n",
            "  'precision', 'predicted', average, warn_for)\n"
          ],
          "name": "stderr"
        },
        {
          "output_type": "execute_result",
          "data": {
            "text/plain": [
              "57.035647279549714"
            ]
          },
          "metadata": {
            "tags": []
          },
          "execution_count": 15
        }
      ]
    }
  ]
}