{
  "cells": [
    {
      "metadata": {
        "_uuid": "e12eb84c9c6defa600b45539d534f88f6bac0809"
      },
      "cell_type": "markdown",
      "source": "  **IMPORTING LIBRARIES**"
    },
    {
      "metadata": {
        "_uuid": "8f2839f25d086af736a60e9eeb907d3b93b6e0e5",
        "_cell_guid": "b1076dfc-b9ad-4769-8c92-a6c4dae69d19",
        "trusted": true,
        "collapsed": true
      },
      "cell_type": "code",
      "source": "#import libraries\nimport nltk\nfrom nltk.corpus import stopwords#for stopwords\nfrom nltk.tokenize import word_tokenize#for tokenizing words\nfrom nltk.tokenize import sent_tokenize#sentence tokenizer\nfrom nltk import ne_chunk, pos_tag\nimport pandas as pd\nimport numpy as np\n\n",
      "execution_count": null,
      "outputs": []
    },
    {
      "metadata": {
        "_uuid": "5f63812b03dc15ca6f4c641fe85ca3c5e1ed8c76"
      },
      "cell_type": "markdown",
      "source": "**LOADING DATA**"
    },
    {
      "metadata": {
        "trusted": true,
        "_uuid": "fd65e2700aabb5161bb9efde36be60443ded3317"
      },
      "cell_type": "code",
      "source": "#load data\ntrain_data=pd.read_csv(\"../input/train.csv\")\n#test_data=pd.read_csv(\"../input/test.csv\")\nx=train_data.iloc[:,1].values\ncomment=np.array2string(x)\nprint(comment)\n",
      "execution_count": 74,
      "outputs": [
        {
          "output_type": "stream",
          "text": "[\"Explanation\\nWhy the edits made under my username Hardcore Metallica Fan were reverted? They weren't vandalisms, just closure on some GAs after I voted at New York Dolls FAC. And please don't remove the template from the talk page since I'm retired now.89.205.38.27\"\n \"D'aww! He matches this background colour I'm seemingly stuck with. Thanks.  (talk) 21:51, January 11, 2016 (UTC)\"\n \"Hey man, I'm really not trying to edit war. It's just that this guy is constantly removing relevant information and talking to me through edits instead of my talk page. He seems to care more about the formatting than the actual info.\"\n ...\n 'Spitzer \\n\\nUmm, theres no actual article for prostitution ring.  - Crunch Captain.'\n 'And it looks like it was actually you who put on the speedy to have the first version deleted now that I look at it.'\n '\"\\nAnd ... I really don\\'t think you understand.  I came here and my idea was bad right away.  What kind of community goes \"\"you have bad ideas\"\" go away, instead of helping rewrite them.   \"']\n",
          "name": "stdout"
        }
      ]
    },
    {
      "metadata": {
        "_uuid": "05a2b83b1920afe5b11c0936d3f947070b9d7863"
      },
      "cell_type": "markdown",
      "source": "**CLEANING THE DATA:REMOVING UNNCESSARY PUNCTUATIONS**"
    },
    {
      "metadata": {
        "trusted": true,
        "scrolled": false,
        "_uuid": "c5da9af4c5bb3023daad451ee0ad12423abb944f"
      },
      "cell_type": "code",
      "source": "#removing unncessary punction marks from text\nfrom nltk.tokenize import RegexpTokenizer\ntokenizer=RegexpTokenizer(r'\\w+')\ncomment1=tokenizer.tokenize(comment)\nprint(comment1)\n",
      "execution_count": 75,
      "outputs": [
        {
          "output_type": "stream",
          "text": "['Explanation', 'nWhy', 'the', 'edits', 'made', 'under', 'my', 'username', 'Hardcore', 'Metallica', 'Fan', 'were', 'reverted', 'They', 'weren', 't', 'vandalisms', 'just', 'closure', 'on', 'some', 'GAs', 'after', 'I', 'voted', 'at', 'New', 'York', 'Dolls', 'FAC', 'And', 'please', 'don', 't', 'remove', 'the', 'template', 'from', 'the', 'talk', 'page', 'since', 'I', 'm', 'retired', 'now', '89', '205', '38', '27', 'D', 'aww', 'He', 'matches', 'this', 'background', 'colour', 'I', 'm', 'seemingly', 'stuck', 'with', 'Thanks', 'talk', '21', '51', 'January', '11', '2016', 'UTC', 'Hey', 'man', 'I', 'm', 'really', 'not', 'trying', 'to', 'edit', 'war', 'It', 's', 'just', 'that', 'this', 'guy', 'is', 'constantly', 'removing', 'relevant', 'information', 'and', 'talking', 'to', 'me', 'through', 'edits', 'instead', 'of', 'my', 'talk', 'page', 'He', 'seems', 'to', 'care', 'more', 'about', 'the', 'formatting', 'than', 'the', 'actual', 'info', 'Spitzer', 'n', 'nUmm', 'theres', 'no', 'actual', 'article', 'for', 'prostitution', 'ring', 'Crunch', 'Captain', 'And', 'it', 'looks', 'like', 'it', 'was', 'actually', 'you', 'who', 'put', 'on', 'the', 'speedy', 'to', 'have', 'the', 'first', 'version', 'deleted', 'now', 'that', 'I', 'look', 'at', 'it', 'nAnd', 'I', 'really', 'don', 't', 'think', 'you', 'understand', 'I', 'came', 'here', 'and', 'my', 'idea', 'was', 'bad', 'right', 'away', 'What', 'kind', 'of', 'community', 'goes', 'you', 'have', 'bad', 'ideas', 'go', 'away', 'instead', 'of', 'helping', 'rewrite', 'them']\n",
          "name": "stdout"
        }
      ]
    },
    {
      "metadata": {
        "_uuid": "6dad38b2dae4dfd84ce9bbacd9f0572fd7c32a37"
      },
      "cell_type": "markdown",
      "source": "**WORD TOKENIZATION AND CLEANING THE DATA:REMOVING STOP WORDS**"
    },
    {
      "metadata": {
        "trusted": true,
        "_uuid": "adb6274a3a179557f5e458f72f77a121ccd11526"
      },
      "cell_type": "code",
      "source": "#---------------------TEXT PRE PROCESSING-------------------------------------\n\n#STEP 1:NOISE REMOVAL-USING STOPWORDS\n#removing unwanted words for analysing-tokenizing and then applying stopwords\ncomment_1=\" \".join(str(e) for e in comment1)\nword=word_tokenize(comment_1)\nfiltered_comment=[]\nstop_words=set(stopwords.words(\"english\"))\n#print(stop_words)\nfor w in word:\n    if w not in stop_words:\n       filtered_comment.append(w)    \nprint(filtered_comment)\ncomment2= \" \".join(str(e) for e in filtered_comment) #converting list to string\nprint(comment2)",
      "execution_count": 76,
      "outputs": [
        {
          "output_type": "stream",
          "text": "['Explanation', 'nWhy', 'edits', 'made', 'username', 'Hardcore', 'Metallica', 'Fan', 'reverted', 'They', 'vandalisms', 'closure', 'GAs', 'I', 'voted', 'New', 'York', 'Dolls', 'FAC', 'And', 'please', 'remove', 'template', 'talk', 'page', 'since', 'I', 'retired', '89', '205', '38', '27', 'D', 'aww', 'He', 'matches', 'background', 'colour', 'I', 'seemingly', 'stuck', 'Thanks', 'talk', '21', '51', 'January', '11', '2016', 'UTC', 'Hey', 'man', 'I', 'really', 'trying', 'edit', 'war', 'It', 'guy', 'constantly', 'removing', 'relevant', 'information', 'talking', 'edits', 'instead', 'talk', 'page', 'He', 'seems', 'care', 'formatting', 'actual', 'info', 'Spitzer', 'n', 'nUmm', 'theres', 'actual', 'article', 'prostitution', 'ring', 'Crunch', 'Captain', 'And', 'looks', 'like', 'actually', 'put', 'speedy', 'first', 'version', 'deleted', 'I', 'look', 'nAnd', 'I', 'really', 'think', 'understand', 'I', 'came', 'idea', 'bad', 'right', 'away', 'What', 'kind', 'community', 'goes', 'bad', 'ideas', 'go', 'away', 'instead', 'helping', 'rewrite']\nExplanation nWhy edits made username Hardcore Metallica Fan reverted They vandalisms closure GAs I voted New York Dolls FAC And please remove template talk page since I retired 89 205 38 27 D aww He matches background colour I seemingly stuck Thanks talk 21 51 January 11 2016 UTC Hey man I really trying edit war It guy constantly removing relevant information talking edits instead talk page He seems care formatting actual info Spitzer n nUmm theres actual article prostitution ring Crunch Captain And looks like actually put speedy first version deleted I look nAnd I really think understand I came idea bad right away What kind community goes bad ideas go away instead helping rewrite\n",
          "name": "stdout"
        }
      ]
    },
    {
      "metadata": {
        "_uuid": "b0fcf84aa8be24b9445f07db094a81afe48ed1ff"
      },
      "cell_type": "markdown",
      "source": "**TOKENIZING SENTENCES**"
    },
    {
      "metadata": {
        "trusted": true,
        "_uuid": "2323d92e1b0c7a3da0e6b21b145eead4b7d36aa5"
      },
      "cell_type": "code",
      "source": "sent_tokenizer=sent_tokenize(comment)\nprint(sent_tokenizer)",
      "execution_count": 77,
      "outputs": [
        {
          "output_type": "stream",
          "text": "['[\"Explanation\\\\nWhy the edits made under my username Hardcore Metallica Fan were reverted?', \"They weren't vandalisms, just closure on some GAs after I voted at New York Dolls FAC.\", 'And please don\\'t remove the template from the talk page since I\\'m retired now.89.205.38.27\"\\n \"D\\'aww!', \"He matches this background colour I'm seemingly stuck with.\", 'Thanks.', '(talk) 21:51, January 11, 2016 (UTC)\"\\n \"Hey man, I\\'m really not trying to edit war.', \"It's just that this guy is constantly removing relevant information and talking to me through edits instead of my talk page.\", 'He seems to care more about the formatting than the actual info.\"', \"...\\n 'Spitzer \\\\n\\\\nUmm, theres no actual article for prostitution ring.\", \"- Crunch Captain.'\", \"'And it looks like it was actually you who put on the speedy to have the first version deleted now that I look at it.'\", '\\'\"\\\\nAnd ...', \"I really don\\\\'t think you understand.\", 'I came here and my idea was bad right away.', 'What kind of community goes \"\"you have bad ideas\"\" go away, instead of helping rewrite them.   \"\\']']\n",
          "name": "stdout"
        }
      ]
    },
    {
      "metadata": {
        "_uuid": "fc867b374690bf41e9301709d6d05d8e9ed1d669"
      },
      "cell_type": "markdown",
      "source": "**FEATURE EXTRACTION:PARTS OF SPEECH TAGGING**"
    },
    {
      "metadata": {
        "_cell_guid": "79c7e3d0-c299-4dcb-8224-4455121ee9b0",
        "_uuid": "d629ff2d2480ee46fbb7e2d37f6b5fab8052498a",
        "trusted": true
      },
      "cell_type": "code",
      "source": "#----------------TEXT TO FEATURES---------------------------------------------\n#STEP 2:POS TAGGING\n\nprint(pos_tag(word))",
      "execution_count": 78,
      "outputs": [
        {
          "output_type": "stream",
          "text": "[('Explanation', 'NN'), ('nWhy', 'IN'), ('the', 'DT'), ('edits', 'NNS'), ('made', 'VBN'), ('under', 'IN'), ('my', 'PRP$'), ('username', 'JJ'), ('Hardcore', 'NNP'), ('Metallica', 'NNP'), ('Fan', 'NNP'), ('were', 'VBD'), ('reverted', 'VBN'), ('They', 'PRP'), ('weren', 'VBP'), ('t', 'JJ'), ('vandalisms', 'NNS'), ('just', 'RB'), ('closure', 'NN'), ('on', 'IN'), ('some', 'DT'), ('GAs', 'NNP'), ('after', 'IN'), ('I', 'PRP'), ('voted', 'VBD'), ('at', 'IN'), ('New', 'NNP'), ('York', 'NNP'), ('Dolls', 'NNP'), ('FAC', 'NNP'), ('And', 'CC'), ('please', 'VB'), ('don', 'JJ'), ('t', 'NN'), ('remove', 'VB'), ('the', 'DT'), ('template', 'NN'), ('from', 'IN'), ('the', 'DT'), ('talk', 'NN'), ('page', 'NN'), ('since', 'IN'), ('I', 'PRP'), ('m', 'VBP'), ('retired', 'VBN'), ('now', 'RB'), ('89', 'CD'), ('205', 'CD'), ('38', 'CD'), ('27', 'CD'), ('D', 'NNP'), ('aww', 'NN'), ('He', 'PRP'), ('matches', 'VBZ'), ('this', 'DT'), ('background', 'IN'), ('colour', 'NN'), ('I', 'PRP'), ('m', 'VBP'), ('seemingly', 'RB'), ('stuck', 'VBN'), ('with', 'IN'), ('Thanks', 'NNP'), ('talk', 'VBP'), ('21', 'CD'), ('51', 'CD'), ('January', 'NNP'), ('11', 'CD'), ('2016', 'CD'), ('UTC', 'NNP'), ('Hey', 'NNP'), ('man', 'NN'), ('I', 'PRP'), ('m', 'VBP'), ('really', 'RB'), ('not', 'RB'), ('trying', 'VBG'), ('to', 'TO'), ('edit', 'VB'), ('war', 'NN'), ('It', 'PRP'), ('s', 'VBZ'), ('just', 'RB'), ('that', 'IN'), ('this', 'DT'), ('guy', 'NN'), ('is', 'VBZ'), ('constantly', 'RB'), ('removing', 'VBG'), ('relevant', 'JJ'), ('information', 'NN'), ('and', 'CC'), ('talking', 'VBG'), ('to', 'TO'), ('me', 'PRP'), ('through', 'IN'), ('edits', 'NNS'), ('instead', 'RB'), ('of', 'IN'), ('my', 'PRP$'), ('talk', 'NN'), ('page', 'NN'), ('He', 'PRP'), ('seems', 'VBZ'), ('to', 'TO'), ('care', 'VB'), ('more', 'RBR'), ('about', 'IN'), ('the', 'DT'), ('formatting', 'NN'), ('than', 'IN'), ('the', 'DT'), ('actual', 'JJ'), ('info', 'NN'), ('Spitzer', 'NNP'), ('n', 'CC'), ('nUmm', 'JJ'), ('theres', 'VBZ'), ('no', 'DT'), ('actual', 'JJ'), ('article', 'NN'), ('for', 'IN'), ('prostitution', 'NN'), ('ring', 'VBG'), ('Crunch', 'NNP'), ('Captain', 'NNP'), ('And', 'CC'), ('it', 'PRP'), ('looks', 'VBZ'), ('like', 'IN'), ('it', 'PRP'), ('was', 'VBD'), ('actually', 'RB'), ('you', 'PRP'), ('who', 'WP'), ('put', 'VBP'), ('on', 'IN'), ('the', 'DT'), ('speedy', 'NN'), ('to', 'TO'), ('have', 'VB'), ('the', 'DT'), ('first', 'JJ'), ('version', 'NN'), ('deleted', 'VBN'), ('now', 'RB'), ('that', 'IN'), ('I', 'PRP'), ('look', 'VBP'), ('at', 'IN'), ('it', 'PRP'), ('nAnd', 'FW'), ('I', 'PRP'), ('really', 'RB'), ('don', 'VBP'), ('t', 'JJ'), ('think', 'VBP'), ('you', 'PRP'), ('understand', 'VBP'), ('I', 'PRP'), ('came', 'VBD'), ('here', 'RB'), ('and', 'CC'), ('my', 'PRP$'), ('idea', 'NN'), ('was', 'VBD'), ('bad', 'JJ'), ('right', 'RB'), ('away', 'RB'), ('What', 'WP'), ('kind', 'NN'), ('of', 'IN'), ('community', 'NN'), ('goes', 'VBZ'), ('you', 'PRP'), ('have', 'VBP'), ('bad', 'JJ'), ('ideas', 'NNS'), ('go', 'VBP'), ('away', 'RB'), ('instead', 'RB'), ('of', 'IN'), ('helping', 'VBG'), ('rewrite', 'VB'), ('them', 'PRP')]\n",
          "name": "stdout"
        }
      ]
    },
    {
      "metadata": {
        "_uuid": "dc5b95d0fa7c131f82109ea63bb9d0c4a026351c"
      },
      "cell_type": "markdown",
      "source": "**ANALYSIS:NAME ENTITY RECOGNITION**"
    },
    {
      "metadata": {
        "trusted": true,
        "scrolled": false,
        "_uuid": "59ebd164b4e51fca2628dfdfb23b030c1fffd428"
      },
      "cell_type": "code",
      "source": "#analysing name entities:PERSON,ORGANIZATION AND LOCATION MENTIONED\ndef entities():\n    return ne_chunk(pos_tag(word))\ntree=entities()\ntree.pprint()",
      "execution_count": 79,
      "outputs": [
        {
          "output_type": "stream",
          "text": "(S\n  (GPE Explanation/NN)\n  nWhy/IN\n  the/DT\n  edits/NNS\n  made/VBN\n  under/IN\n  my/PRP$\n  username/JJ\n  (ORGANIZATION Hardcore/NNP)\n  (ORGANIZATION Metallica/NNP)\n  Fan/NNP\n  were/VBD\n  reverted/VBN\n  They/PRP\n  weren/VBP\n  t/JJ\n  vandalisms/NNS\n  just/RB\n  closure/NN\n  on/IN\n  some/DT\n  GAs/NNP\n  after/IN\n  I/PRP\n  voted/VBD\n  at/IN\n  (GPE New/NNP York/NNP)\n  (PERSON Dolls/NNP FAC/NNP)\n  And/CC\n  please/VB\n  don/JJ\n  t/NN\n  remove/VB\n  the/DT\n  template/NN\n  from/IN\n  the/DT\n  talk/NN\n  page/NN\n  since/IN\n  I/PRP\n  m/VBP\n  retired/VBN\n  now/RB\n  89/CD\n  205/CD\n  38/CD\n  27/CD\n  D/NNP\n  aww/NN\n  He/PRP\n  matches/VBZ\n  this/DT\n  background/IN\n  colour/NN\n  I/PRP\n  m/VBP\n  seemingly/RB\n  stuck/VBN\n  with/IN\n  (GPE Thanks/NNP)\n  talk/VBP\n  21/CD\n  51/CD\n  January/NNP\n  11/CD\n  2016/CD\n  (ORGANIZATION UTC/NNP Hey/NNP)\n  man/NN\n  I/PRP\n  m/VBP\n  really/RB\n  not/RB\n  trying/VBG\n  to/TO\n  edit/VB\n  war/NN\n  It/PRP\n  s/VBZ\n  just/RB\n  that/IN\n  this/DT\n  guy/NN\n  is/VBZ\n  constantly/RB\n  removing/VBG\n  relevant/JJ\n  information/NN\n  and/CC\n  talking/VBG\n  to/TO\n  me/PRP\n  through/IN\n  edits/NNS\n  instead/RB\n  of/IN\n  my/PRP$\n  talk/NN\n  page/NN\n  He/PRP\n  seems/VBZ\n  to/TO\n  care/VB\n  more/RBR\n  about/IN\n  the/DT\n  formatting/NN\n  than/IN\n  the/DT\n  actual/JJ\n  info/NN\n  (PERSON Spitzer/NNP)\n  n/CC\n  (ORGANIZATION nUmm/JJ)\n  theres/VBZ\n  no/DT\n  actual/JJ\n  article/NN\n  for/IN\n  prostitution/NN\n  ring/VBG\n  (PERSON Crunch/NNP Captain/NNP)\n  And/CC\n  it/PRP\n  looks/VBZ\n  like/IN\n  it/PRP\n  was/VBD\n  actually/RB\n  you/PRP\n  who/WP\n  put/VBP\n  on/IN\n  the/DT\n  speedy/NN\n  to/TO\n  have/VB\n  the/DT\n  first/JJ\n  version/NN\n  deleted/VBN\n  now/RB\n  that/IN\n  I/PRP\n  look/VBP\n  at/IN\n  it/PRP\n  nAnd/FW\n  I/PRP\n  really/RB\n  don/VBP\n  t/JJ\n  think/VBP\n  you/PRP\n  understand/VBP\n  I/PRP\n  came/VBD\n  here/RB\n  and/CC\n  my/PRP$\n  idea/NN\n  was/VBD\n  bad/JJ\n  right/RB\n  away/RB\n  What/WP\n  kind/NN\n  of/IN\n  community/NN\n  goes/VBZ\n  you/PRP\n  have/VBP\n  bad/JJ\n  ideas/NNS\n  go/VBP\n  away/RB\n  instead/RB\n  of/IN\n  helping/VBG\n  rewrite/VB\n  them/PRP)\n",
          "name": "stdout"
        }
      ]
    }
  ],
  "metadata": {
    "kernelspec": {
      "display_name": "Python 3",
      "language": "python",
      "name": "python3"
    },
    "language_info": {
      "name": "python",
      "version": "3.6.4",
      "mimetype": "text/x-python",
      "codemirror_mode": {
        "name": "ipython",
        "version": 3
      },
      "pygments_lexer": "ipython3",
      "nbconvert_exporter": "python",
      "file_extension": ".py"
    }
  },
  "nbformat": 4,
  "nbformat_minor": 1
}